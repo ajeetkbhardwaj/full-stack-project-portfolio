{
 "cells": [
  {
   "cell_type": "code",
   "execution_count": 24,
   "metadata": {},
   "outputs": [],
   "source": [
    "# Cell 1: Import necessary modules\n",
    "import pandas as pd\n",
    "import mysql.connector\n",
    "from mysql.connector import Error\n",
    "from getpass import getpass\n",
    "import matplotlib.pyplot as plt"
   ]
  },
  {
   "cell_type": "code",
   "execution_count": 5,
   "metadata": {},
   "outputs": [],
   "source": [
    "# Cell 2: Database configuration (fill these as needed)\n",
    "host = 'localhost'\n",
    "user = input('Enter your MySQL username: ')\n",
    "password = getpass('Enter your MySQL password: ')\n",
    "database = 'supermarket_db'\n"
   ]
  },
  {
   "cell_type": "code",
   "execution_count": 6,
   "metadata": {},
   "outputs": [
    {
     "name": "stderr",
     "output_type": "stream",
     "text": [
      "/tmp/ipykernel_310365/2712869206.py:14: UserWarning: Could not infer format, so each element will be parsed individually, falling back to `dateutil`. To ensure parsing is consistent and as-expected, please specify a format.\n",
      "  df['sale_time'] = pd.to_datetime(df['sale_time']).dt.strftime('%H:%M:%S')\n"
     ]
    },
    {
     "data": {
      "text/html": [
       "<div>\n",
       "<style scoped>\n",
       "    .dataframe tbody tr th:only-of-type {\n",
       "        vertical-align: middle;\n",
       "    }\n",
       "\n",
       "    .dataframe tbody tr th {\n",
       "        vertical-align: top;\n",
       "    }\n",
       "\n",
       "    .dataframe thead th {\n",
       "        text-align: right;\n",
       "    }\n",
       "</style>\n",
       "<table border=\"1\" class=\"dataframe\">\n",
       "  <thead>\n",
       "    <tr style=\"text-align: right;\">\n",
       "      <th></th>\n",
       "      <th>invoice_id</th>\n",
       "      <th>branch</th>\n",
       "      <th>city</th>\n",
       "      <th>customer_type</th>\n",
       "      <th>gender</th>\n",
       "      <th>product_line</th>\n",
       "      <th>unit_price</th>\n",
       "      <th>quantity</th>\n",
       "      <th>tax_5_percent</th>\n",
       "      <th>total</th>\n",
       "      <th>sale_date</th>\n",
       "      <th>sale_time</th>\n",
       "      <th>payment_method</th>\n",
       "      <th>cogs</th>\n",
       "      <th>gross_margin_percentage</th>\n",
       "      <th>gross_income</th>\n",
       "      <th>rating</th>\n",
       "    </tr>\n",
       "  </thead>\n",
       "  <tbody>\n",
       "    <tr>\n",
       "      <th>0</th>\n",
       "      <td>750-67-8428</td>\n",
       "      <td>A</td>\n",
       "      <td>Yangon</td>\n",
       "      <td>Member</td>\n",
       "      <td>Female</td>\n",
       "      <td>Health and beauty</td>\n",
       "      <td>74.69</td>\n",
       "      <td>7</td>\n",
       "      <td>26.1415</td>\n",
       "      <td>548.9715</td>\n",
       "      <td>2019-01-05</td>\n",
       "      <td>13:08:00</td>\n",
       "      <td>Ewallet</td>\n",
       "      <td>522.83</td>\n",
       "      <td>4.761905</td>\n",
       "      <td>26.1415</td>\n",
       "      <td>9.1</td>\n",
       "    </tr>\n",
       "    <tr>\n",
       "      <th>1</th>\n",
       "      <td>226-31-3081</td>\n",
       "      <td>C</td>\n",
       "      <td>Naypyitaw</td>\n",
       "      <td>Normal</td>\n",
       "      <td>Female</td>\n",
       "      <td>Electronic accessories</td>\n",
       "      <td>15.28</td>\n",
       "      <td>5</td>\n",
       "      <td>3.8200</td>\n",
       "      <td>80.2200</td>\n",
       "      <td>2019-03-08</td>\n",
       "      <td>10:29:00</td>\n",
       "      <td>Cash</td>\n",
       "      <td>76.40</td>\n",
       "      <td>4.761905</td>\n",
       "      <td>3.8200</td>\n",
       "      <td>9.6</td>\n",
       "    </tr>\n",
       "    <tr>\n",
       "      <th>2</th>\n",
       "      <td>631-41-3108</td>\n",
       "      <td>A</td>\n",
       "      <td>Yangon</td>\n",
       "      <td>Normal</td>\n",
       "      <td>Male</td>\n",
       "      <td>Home and lifestyle</td>\n",
       "      <td>46.33</td>\n",
       "      <td>7</td>\n",
       "      <td>16.2155</td>\n",
       "      <td>340.5255</td>\n",
       "      <td>2019-03-03</td>\n",
       "      <td>13:23:00</td>\n",
       "      <td>Credit card</td>\n",
       "      <td>324.31</td>\n",
       "      <td>4.761905</td>\n",
       "      <td>16.2155</td>\n",
       "      <td>7.4</td>\n",
       "    </tr>\n",
       "    <tr>\n",
       "      <th>3</th>\n",
       "      <td>123-19-1176</td>\n",
       "      <td>A</td>\n",
       "      <td>Yangon</td>\n",
       "      <td>Member</td>\n",
       "      <td>Male</td>\n",
       "      <td>Health and beauty</td>\n",
       "      <td>58.22</td>\n",
       "      <td>8</td>\n",
       "      <td>23.2880</td>\n",
       "      <td>489.0480</td>\n",
       "      <td>2019-01-27</td>\n",
       "      <td>20:33:00</td>\n",
       "      <td>Ewallet</td>\n",
       "      <td>465.76</td>\n",
       "      <td>4.761905</td>\n",
       "      <td>23.2880</td>\n",
       "      <td>8.4</td>\n",
       "    </tr>\n",
       "    <tr>\n",
       "      <th>4</th>\n",
       "      <td>373-73-7910</td>\n",
       "      <td>A</td>\n",
       "      <td>Yangon</td>\n",
       "      <td>Normal</td>\n",
       "      <td>Male</td>\n",
       "      <td>Sports and travel</td>\n",
       "      <td>86.31</td>\n",
       "      <td>7</td>\n",
       "      <td>30.2085</td>\n",
       "      <td>634.3785</td>\n",
       "      <td>2019-02-08</td>\n",
       "      <td>10:37:00</td>\n",
       "      <td>Ewallet</td>\n",
       "      <td>604.17</td>\n",
       "      <td>4.761905</td>\n",
       "      <td>30.2085</td>\n",
       "      <td>5.3</td>\n",
       "    </tr>\n",
       "  </tbody>\n",
       "</table>\n",
       "</div>"
      ],
      "text/plain": [
       "    invoice_id branch       city customer_type  gender  \\\n",
       "0  750-67-8428      A     Yangon        Member  Female   \n",
       "1  226-31-3081      C  Naypyitaw        Normal  Female   \n",
       "2  631-41-3108      A     Yangon        Normal    Male   \n",
       "3  123-19-1176      A     Yangon        Member    Male   \n",
       "4  373-73-7910      A     Yangon        Normal    Male   \n",
       "\n",
       "             product_line  unit_price  quantity  tax_5_percent     total  \\\n",
       "0       Health and beauty       74.69         7        26.1415  548.9715   \n",
       "1  Electronic accessories       15.28         5         3.8200   80.2200   \n",
       "2      Home and lifestyle       46.33         7        16.2155  340.5255   \n",
       "3       Health and beauty       58.22         8        23.2880  489.0480   \n",
       "4       Sports and travel       86.31         7        30.2085  634.3785   \n",
       "\n",
       "    sale_date sale_time payment_method    cogs  gross_margin_percentage  \\\n",
       "0  2019-01-05  13:08:00        Ewallet  522.83                 4.761905   \n",
       "1  2019-03-08  10:29:00           Cash   76.40                 4.761905   \n",
       "2  2019-03-03  13:23:00    Credit card  324.31                 4.761905   \n",
       "3  2019-01-27  20:33:00        Ewallet  465.76                 4.761905   \n",
       "4  2019-02-08  10:37:00        Ewallet  604.17                 4.761905   \n",
       "\n",
       "   gross_income  rating  \n",
       "0       26.1415     9.1  \n",
       "1        3.8200     9.6  \n",
       "2       16.2155     7.4  \n",
       "3       23.2880     8.4  \n",
       "4       30.2085     5.3  "
      ]
     },
     "execution_count": 6,
     "metadata": {},
     "output_type": "execute_result"
    }
   ],
   "source": [
    "# Cell 3: Load your CSV into a DataFrame\n",
    "df = pd.read_csv('supermarketsales.csv')\n",
    "\n",
    "# Rename columns\n",
    "df.columns = [\n",
    "    'invoice_id', 'branch', 'city', 'customer_type', 'gender',\n",
    "    'product_line', 'unit_price', 'quantity', 'tax_5_percent', 'total',\n",
    "    'sale_date', 'sale_time', 'payment_method', 'cogs',\n",
    "    'gross_margin_percentage', 'gross_income', 'rating'\n",
    "]\n",
    "\n",
    "# Convert date/time columns\n",
    "df['sale_date'] = pd.to_datetime(df['sale_date']).dt.strftime('%Y-%m-%d')\n",
    "df['sale_time'] = pd.to_datetime(df['sale_time']).dt.strftime('%H:%M:%S')\n",
    "\n",
    "df.head()\n"
   ]
  },
  {
   "cell_type": "code",
   "execution_count": 7,
   "metadata": {},
   "outputs": [
    {
     "name": "stdout",
     "output_type": "stream",
     "text": [
      "Connected to MySQL database\n",
      "1000 records inserted successfully into sales table.\n",
      "MySQL connection is closed\n"
     ]
    }
   ],
   "source": [
    "# Cell 4: Connect to MySQL and insert records\n",
    "try:\n",
    "    conn = mysql.connector.connect(\n",
    "        host=host,\n",
    "        user=user,\n",
    "        password=password,\n",
    "        database=database\n",
    "    )\n",
    "    if conn.is_connected():\n",
    "        print('Connected to MySQL database')\n",
    "        cursor = conn.cursor()\n",
    "        \n",
    "        insert_query = \"\"\"\n",
    "        INSERT INTO sales (\n",
    "            invoice_id, branch, city, customer_type, gender, product_line,\n",
    "            unit_price, quantity, tax_5_percent, total, sale_date, sale_time,\n",
    "            payment_method, cogs, gross_margin_percentage, gross_income, rating\n",
    "        )\n",
    "        VALUES (%s, %s, %s, %s, %s, %s, %s, %s, %s, %s, %s, %s, %s, %s, %s, %s, %s)\n",
    "        \"\"\"\n",
    "        # Ensure all data types are native Python for MySQL\n",
    "        data_to_insert = [tuple(row) for row in df.itertuples(index=False, name=None)]\n",
    "        cursor.executemany(insert_query, data_to_insert)\n",
    "        conn.commit()\n",
    "        print(f\"{cursor.rowcount} records inserted successfully into sales table.\")\n",
    "\n",
    "except Error as e:\n",
    "    print(f\"Error: {e}\")\n",
    "finally:\n",
    "    if 'conn' in locals() and conn.is_connected():\n",
    "        cursor.close()\n",
    "        conn.close()\n",
    "        print(\"MySQL connection is closed\")\n"
   ]
  },
  {
   "cell_type": "code",
   "execution_count": 10,
   "metadata": {},
   "outputs": [],
   "source": [
    "# Cell 2: Database configuration (fill these as needed)\n",
    "host = 'localhost'\n",
    "user = input('Enter your MySQL username: ')\n",
    "password = getpass('Enter your MySQL password: ')\n",
    "database = 'supermarket_db'"
   ]
  },
  {
   "cell_type": "code",
   "execution_count": 13,
   "metadata": {},
   "outputs": [
    {
     "name": "stdout",
     "output_type": "stream",
     "text": [
      "MySQLCursor: (Nothing executed yet)\n"
     ]
    }
   ],
   "source": [
    "db_config = {\n",
    "    'host': 'localhost',\n",
    "    'user': 'root',  # e.g., 'root'\n",
    "    'password': 'mysql',\n",
    "    'database': 'supermarket_db'\n",
    "}\n",
    "# Connect to the database\n",
    "mydb = mysql.connector.connect(**db_config)\n",
    "mycursor = mydb.cursor()\n",
    "print(mycursor)"
   ]
  },
  {
   "cell_type": "code",
   "execution_count": 14,
   "metadata": {},
   "outputs": [
    {
     "name": "stdout",
     "output_type": "stream",
     "text": [
      "--- Supermarket Sales Analysis ---\n",
      "\n",
      "[Question 1: Displaying first 5 sales records]\n",
      "('101-17-6199', 'A', 'Yangon', 'Normal', 'Male', 'Food and beverages', Decimal('45.79'), 7, Decimal('16.03'), Decimal('336.56'), datetime.date(2019, 3, 13), datetime.timedelta(seconds=71040), 'Credit card', Decimal('320.53'), 4.7619, Decimal('16.03'), 7.0)\n",
      "('101-81-4070', 'C', 'Naypyitaw', 'Member', 'Female', 'Health and beauty', Decimal('62.82'), 2, Decimal('6.28'), Decimal('131.92'), datetime.date(2019, 1, 17), datetime.timedelta(seconds=45360), 'Ewallet', Decimal('125.64'), 4.7619, Decimal('6.28'), 4.9)\n",
      "('102-06-2002', 'C', 'Naypyitaw', 'Member', 'Male', 'Sports and travel', Decimal('25.25'), 5, Decimal('6.31'), Decimal('132.56'), datetime.date(2019, 3, 20), datetime.timedelta(seconds=64320), 'Cash', Decimal('126.25'), 4.7619, Decimal('6.31'), 6.1)\n",
      "('102-77-2261', 'C', 'Naypyitaw', 'Member', 'Male', 'Health and beauty', Decimal('65.31'), 7, Decimal('22.86'), Decimal('480.03'), datetime.date(2019, 3, 5), datetime.timedelta(seconds=64920), 'Credit card', Decimal('457.17'), 4.7619, Decimal('22.86'), 4.2)\n",
      "('105-10-6182', 'A', 'Yangon', 'Member', 'Male', 'Fashion accessories', Decimal('21.48'), 2, Decimal('2.15'), Decimal('45.11'), datetime.date(2019, 2, 27), datetime.timedelta(seconds=44520), 'Ewallet', Decimal('42.96'), 4.7619, Decimal('2.15'), 6.6)\n"
     ]
    }
   ],
   "source": [
    "print(\"--- Supermarket Sales Analysis ---\")\n",
    "\n",
    "# Question 1: Show a few sample records\n",
    "# Concept: SELECT * and fetchall()\n",
    "print(\"\\n[Question 1: Displaying first 5 sales records]\")\n",
    "mycursor.execute(\"SELECT * FROM sales LIMIT 5\")\n",
    "myresult = mycursor.fetchall()\n",
    "for row in myresult:\n",
    "    print(row)"
   ]
  },
  {
   "cell_type": "code",
   "execution_count": 15,
   "metadata": {},
   "outputs": [
    {
     "name": "stdout",
     "output_type": "stream",
     "text": [
      "\n",
      "[Question 2: Finding all sales from the 'Yangon' branch]\n",
      "Found 340 sales in Yangon. Showing first 5:\n",
      "Invoice: 101-17-6199, Product: Food and beverages, Total: 336.56\n",
      "Invoice: 105-10-6182, Product: Fashion accessories, Total: 45.11\n",
      "Invoice: 105-31-1824, Product: Sports and travel, Total: 510.97\n",
      "Invoice: 106-35-6779, Product: Home and lifestyle, Total: 93.11\n",
      "Invoice: 123-19-1176, Product: Health and beauty, Total: 489.05\n"
     ]
    }
   ],
   "source": [
    "# Question 2: Which city has the most sales? \n",
    "# concept - SELECT with WHERE clause\n",
    "# find all sales from a specific city\n",
    "print(\"\\n[Question 2: Finding all sales from the 'Yangon' branch]\")\n",
    "sql = \"SELECT invoice_id, product_line, total FROM sales WHERE city = 'Yangon'\"\n",
    "mycursor.execute(sql)\n",
    "myresult = mycursor.fetchall()\n",
    "print(f\"Found {len(myresult)} sales in Yangon. Showing first 5:\")\n",
    "for row in myresult[:5]:\n",
    "    print(f\"Invoice: {row[0]}, Product: {row[1]}, Total: {row[2]}\")\n"
   ]
  },
  {
   "cell_type": "code",
   "execution_count": 16,
   "metadata": {},
   "outputs": [
    {
     "name": "stdout",
     "output_type": "stream",
     "text": [
      "\n",
      "[Question 2: Finding all sales from the 'Naypyitaw' branch]\n",
      "Found 328 sales in Naypyitaw. Showing first 5:\n",
      "Invoice: 101-81-4070, Product: Health and beauty, Total: 131.92\n",
      "Invoice: 102-06-2002, Product: Sports and travel, Total: 132.56\n",
      "Invoice: 102-77-2261, Product: Health and beauty, Total: 480.03\n",
      "Invoice: 110-05-6330, Product: Food and beverages, Total: 248.41\n",
      "Invoice: 115-38-7388, Product: Fashion accessories, Total: 85.51\n"
     ]
    }
   ],
   "source": [
    "# Question 2: Which city has the most sales? \n",
    "# concept - SELECT with WHERE clause\n",
    "# find all sales from a specific city\n",
    "print(\"\\n[Question 2: Finding all sales from the 'Naypyitaw' branch]\")\n",
    "sql = \"SELECT invoice_id, product_line, total FROM sales WHERE city = 'Naypyitaw'\"\n",
    "mycursor.execute(sql)\n",
    "myresult = mycursor.fetchall()\n",
    "print(f\"Found {len(myresult)} sales in Naypyitaw. Showing first 5:\")\n",
    "for row in myresult[:5]:\n",
    "    print(f\"Invoice: {row[0]}, Product: {row[1]}, Total: {row[2]}\")\n"
   ]
  },
  {
   "cell_type": "code",
   "execution_count": 17,
   "metadata": {},
   "outputs": [
    {
     "name": "stdout",
     "output_type": "stream",
     "text": [
      "\n",
      "[Question 3: Top 5 highest-value transactions]\n",
      "Invoice: 860-79-0874, City: Naypyitaw, Total Sale: 1042.65\n",
      "Invoice: 687-47-8271, City: Yangon, Total Sale: 1039.29\n",
      "Invoice: 283-26-5248, City: Naypyitaw, Total Sale: 1034.46\n",
      "Invoice: 751-41-9720, City: Naypyitaw, Total Sale: 1023.75\n",
      "Invoice: 303-96-2227, City: Mandalay, Total Sale: 1022.49\n"
     ]
    }
   ],
   "source": [
    "# Question 3: What are the top 5 highest-value sales?\n",
    "# concept : Order by\n",
    "print(\"\\n[Question 3: Top 5 highest-value transactions]\")\n",
    "sql = \"SELECT invoice_id, city, total FROM sales ORDER BY total DESC LIMIT 5\"\n",
    "mycursor.execute(sql)\n",
    "myresult = mycursor.fetchall()\n",
    "for row in myresult:\n",
    "    print(f\"Invoice: {row[0]}, City: {row[1]}, Total Sale: {row[2]}\")"
   ]
  },
  {
   "cell_type": "code",
   "execution_count": 18,
   "metadata": {},
   "outputs": [
    {
     "name": "stdout",
     "output_type": "stream",
     "text": [
      "\n",
      "[Question 4: Sales to 'Normal' customers for 'Fashion accessories']\n",
      "Found 92 such sales. Showing first 5:\n",
      "Invoice: 125-45-2293, Total: 624.33, Rating: 4.2\n",
      "Invoice: 130-98-8941, Total: 472.31, Rating: 5.7\n",
      "Invoice: 135-84-8019, Total: 736.44, Rating: 7.6\n",
      "Invoice: 137-74-8729, Total: 102.40, Rating: 6.8\n",
      "Invoice: 139-52-2867, Total: 165.45, Rating: 4.8\n"
     ]
    }
   ],
   "source": [
    "# Question 4: Which sales were made to 'Normal' customers for 'Fashion accessories'? \n",
    "# Concept: Combining WHERE with AND\n",
    "print(\"\\n[Question 4: Sales to 'Normal' customers for 'Fashion accessories']\")\n",
    "sql = \"SELECT invoice_id, total, rating FROM sales WHERE customer_type = 'Normal' AND product_line = 'Fashion accessories'\"\n",
    "mycursor.execute(sql)\n",
    "myresult = mycursor.fetchall()\n",
    "print(f\"Found {len(myresult)} such sales. Showing first 5:\")\n",
    "for row in myresult[:5]:\n",
    "    print(f\"Invoice: {row[0]}, Total: {row[1]}, Rating: {row[2]}\")"
   ]
  },
  {
   "cell_type": "code",
   "execution_count": 19,
   "metadata": {},
   "outputs": [
    {
     "name": "stdout",
     "output_type": "stream",
     "text": [
      "\n",
      "[Question 5: Finding sales from product lines containing 'Health']\n",
      "Invoice: 101-81-4070, Product Line: Health and beauty, Total: 131.92\n",
      "Invoice: 102-77-2261, Product Line: Health and beauty, Total: 480.03\n",
      "Invoice: 123-19-1176, Product Line: Health and beauty, Total: 489.05\n",
      "Invoice: 127-47-6963, Product Line: Health and beauty, Total: 217.18\n",
      "Invoice: 131-70-8179, Product Line: Health and beauty, Total: 290.08\n",
      "Invoice: 132-23-6451, Product Line: Health and beauty, Total: 110.09\n",
      "Invoice: 133-14-7229, Product Line: Health and beauty, Total: 132.03\n",
      "Invoice: 148-41-7930, Product Line: Health and beauty, Total: 734.71\n",
      "Invoice: 149-14-0304, Product Line: Health and beauty, Total: 239.40\n",
      "Invoice: 152-08-9985, Product Line: Health and beauty, Total: 608.20\n",
      "Invoice: 157-13-5295, Product Line: Health and beauty, Total: 545.37\n",
      "Invoice: 160-22-2687, Product Line: Health and beauty, Total: 503.74\n",
      "Invoice: 176-78-1170, Product Line: Health and beauty, Total: 106.50\n",
      "Invoice: 186-09-3669, Product Line: Health and beauty, Total: 85.59\n",
      "Invoice: 186-79-9562, Product Line: Health and beauty, Total: 527.51\n",
      "Invoice: 188-55-0967, Product Line: Health and beauty, Total: 697.94\n",
      "Invoice: 190-14-3147, Product Line: Health and beauty, Total: 75.47\n",
      "Invoice: 207-73-1363, Product Line: Health and beauty, Total: 145.97\n",
      "Invoice: 210-57-1719, Product Line: Health and beauty, Total: 550.37\n",
      "Invoice: 210-67-5886, Product Line: Health and beauty, Total: 309.36\n",
      "Invoice: 211-30-9270, Product Line: Health and beauty, Total: 91.40\n",
      "Invoice: 222-42-0244, Product Line: Health and beauty, Total: 681.44\n",
      "Invoice: 227-50-3718, Product Line: Health and beauty, Total: 76.76\n",
      "Invoice: 233-67-5758, Product Line: Health and beauty, Total: 42.37\n",
      "Invoice: 234-36-2483, Product Line: Health and beauty, Total: 362.82\n",
      "Invoice: 238-49-0436, Product Line: Health and beauty, Total: 272.66\n",
      "Invoice: 244-08-0162, Product Line: Health and beauty, Total: 359.21\n",
      "Invoice: 249-42-3782, Product Line: Health and beauty, Total: 367.55\n",
      "Invoice: 258-92-7466, Product Line: Health and beauty, Total: 187.32\n",
      "Invoice: 268-03-6164, Product Line: Health and beauty, Total: 100.92\n",
      "Invoice: 268-20-3585, Product Line: Health and beauty, Total: 130.88\n",
      "Invoice: 269-10-8440, Product Line: Health and beauty, Total: 390.80\n",
      "Invoice: 276-75-6884, Product Line: Health and beauty, Total: 216.44\n",
      "Invoice: 280-17-4359, Product Line: Health and beauty, Total: 950.25\n",
      "Invoice: 287-83-1405, Product Line: Health and beauty, Total: 160.21\n",
      "Invoice: 291-21-5991, Product Line: Health and beauty, Total: 321.77\n",
      "Invoice: 296-11-7041, Product Line: Health and beauty, Total: 28.42\n",
      "Invoice: 302-15-2162, Product Line: Health and beauty, Total: 293.14\n",
      "Invoice: 314-23-4520, Product Line: Health and beauty, Total: 597.04\n",
      "Invoice: 318-68-5053, Product Line: Health and beauty, Total: 485.04\n",
      "Invoice: 333-23-2632, Product Line: Health and beauty, Total: 74.09\n",
      "Invoice: 333-73-7901, Product Line: Health and beauty, Total: 461.33\n",
      "Invoice: 338-65-2210, Product Line: Health and beauty, Total: 720.30\n",
      "Invoice: 342-65-4817, Product Line: Health and beauty, Total: 273.42\n",
      "Invoice: 343-87-0864, Product Line: Health and beauty, Total: 79.67\n",
      "Invoice: 359-94-5395, Product Line: Health and beauty, Total: 97.42\n",
      "Invoice: 370-41-7321, Product Line: Health and beauty, Total: 535.72\n",
      "Invoice: 371-85-5789, Product Line: Health and beauty, Total: 277.14\n",
      "Invoice: 372-94-8041, Product Line: Health and beauty, Total: 96.14\n",
      "Invoice: 382-03-4532, Product Line: Health and beauty, Total: 19.25\n",
      "Invoice: 389-70-2397, Product Line: Health and beauty, Total: 439.22\n",
      "Invoice: 390-80-5128, Product Line: Health and beauty, Total: 20.11\n",
      "Invoice: 397-25-8725, Product Line: Health and beauty, Total: 374.41\n",
      "Invoice: 400-45-1220, Product Line: Health and beauty, Total: 141.75\n",
      "Invoice: 400-80-4065, Product Line: Health and beauty, Total: 287.91\n",
      "Invoice: 408-66-6712, Product Line: Health and beauty, Total: 300.57\n",
      "Invoice: 418-02-5978, Product Line: Health and beauty, Total: 794.65\n",
      "Invoice: 423-64-4619, Product Line: Health and beauty, Total: 146.95\n",
      "Invoice: 425-85-2085, Product Line: Health and beauty, Total: 288.02\n",
      "Invoice: 430-53-4718, Product Line: Health and beauty, Total: 633.11\n",
      "Invoice: 433-08-7822, Product Line: Health and beauty, Total: 579.84\n",
      "Invoice: 433-75-6987, Product Line: Health and beauty, Total: 411.38\n",
      "Invoice: 440-59-5691, Product Line: Health and beauty, Total: 273.05\n",
      "Invoice: 443-82-0585, Product Line: Health and beauty, Total: 326.26\n",
      "Invoice: 448-81-5016, Product Line: Health and beauty, Total: 125.52\n",
      "Invoice: 449-16-6770, Product Line: Health and beauty, Total: 266.65\n",
      "Invoice: 450-42-3339, Product Line: Health and beauty, Total: 888.41\n",
      "Invoice: 458-10-8612, Product Line: Health and beauty, Total: 470.99\n",
      "Invoice: 458-41-1477, Product Line: Health and beauty, Total: 291.44\n",
      "Invoice: 470-31-3286, Product Line: Health and beauty, Total: 46.68\n",
      "Invoice: 477-24-6490, Product Line: Health and beauty, Total: 628.17\n",
      "Invoice: 483-71-1164, Product Line: Health and beauty, Total: 512.19\n",
      "Invoice: 498-41-1961, Product Line: Health and beauty, Total: 350.07\n",
      "Invoice: 502-05-1910, Product Line: Health and beauty, Total: 205.32\n",
      "Invoice: 503-21-4385, Product Line: Health and beauty, Total: 125.72\n",
      "Invoice: 505-02-0892, Product Line: Health and beauty, Total: 357.59\n",
      "Invoice: 512-91-0811, Product Line: Health and beauty, Total: 94.24\n",
      "Invoice: 516-77-6464, Product Line: Health and beauty, Total: 53.34\n",
      "Invoice: 528-14-9470, Product Line: Health and beauty, Total: 95.87\n",
      "Invoice: 545-07-8534, Product Line: Health and beauty, Total: 122.47\n",
      "Invoice: 552-44-5977, Product Line: Health and beauty, Total: 520.80\n",
      "Invoice: 556-41-6224, Product Line: Health and beauty, Total: 282.58\n",
      "Invoice: 559-61-5987, Product Line: Health and beauty, Total: 18.64\n",
      "Invoice: 563-47-4072, Product Line: Health and beauty, Total: 351.60\n",
      "Invoice: 565-17-3836, Product Line: Health and beauty, Total: 200.21\n",
      "Invoice: 565-91-4567, Product Line: Health and beauty, Total: 90.30\n",
      "Invoice: 568-88-3448, Product Line: Health and beauty, Total: 26.25\n",
      "Invoice: 568-90-5112, Product Line: Health and beauty, Total: 277.79\n",
      "Invoice: 573-10-3877, Product Line: Health and beauty, Total: 40.96\n",
      "Invoice: 576-31-4774, Product Line: Health and beauty, Total: 231.24\n",
      "Invoice: 585-03-5943, Product Line: Health and beauty, Total: 190.16\n",
      "Invoice: 587-73-4862, Product Line: Health and beauty, Total: 56.12\n",
      "Invoice: 595-11-5460, Product Line: Health and beauty, Total: 202.82\n",
      "Invoice: 595-94-9924, Product Line: Health and beauty, Total: 145.58\n",
      "Invoice: 605-03-2706, Product Line: Health and beauty, Total: 49.77\n",
      "Invoice: 607-65-2441, Product Line: Health and beauty, Total: 860.48\n",
      "Invoice: 608-04-3797, Product Line: Health and beauty, Total: 212.69\n",
      "Invoice: 610-46-4100, Product Line: Health and beauty, Total: 212.78\n",
      "Invoice: 617-15-4209, Product Line: Health and beauty, Total: 32.28\n",
      "Invoice: 622-20-1945, Product Line: Health and beauty, Total: 41.39\n",
      "Invoice: 628-90-8624, Product Line: Health and beauty, Total: 867.09\n",
      "Invoice: 629-42-4133, Product Line: Health and beauty, Total: 183.12\n",
      "Invoice: 635-28-5728, Product Line: Health and beauty, Total: 176.40\n",
      "Invoice: 635-40-6220, Product Line: Health and beauty, Total: 752.64\n",
      "Invoice: 636-17-0325, Product Line: Health and beauty, Total: 262.79\n",
      "Invoice: 648-94-3045, Product Line: Health and beauty, Total: 618.98\n",
      "Invoice: 656-95-9349, Product Line: Health and beauty, Total: 506.64\n",
      "Invoice: 658-66-3967, Product Line: Health and beauty, Total: 390.95\n",
      "Invoice: 665-32-9167, Product Line: Health and beauty, Total: 76.15\n",
      "Invoice: 667-92-0055, Product Line: Health and beauty, Total: 628.93\n",
      "Invoice: 687-15-1097, Product Line: Health and beauty, Total: 44.35\n",
      "Invoice: 689-05-1884, Product Line: Health and beauty, Total: 510.62\n",
      "Invoice: 699-01-4164, Product Line: Health and beauty, Total: 174.30\n",
      "Invoice: 699-88-1972, Product Line: Health and beauty, Total: 832.94\n",
      "Invoice: 704-10-4056, Product Line: Health and beauty, Total: 190.48\n",
      "Invoice: 704-20-4138, Product Line: Health and beauty, Total: 218.07\n",
      "Invoice: 716-39-1409, Product Line: Health and beauty, Total: 223.07\n",
      "Invoice: 725-54-0677, Product Line: Health and beauty, Total: 629.16\n",
      "Invoice: 725-56-0833, Product Line: Health and beauty, Total: 339.36\n",
      "Invoice: 726-27-2396, Product Line: Health and beauty, Total: 406.88\n",
      "Invoice: 729-06-2010, Product Line: Health and beauty, Total: 760.44\n",
      "Invoice: 730-61-8757, Product Line: Health and beauty, Total: 214.75\n",
      "Invoice: 731-59-7531, Product Line: Health and beauty, Total: 609.59\n",
      "Invoice: 743-04-1105, Product Line: Health and beauty, Total: 918.73\n",
      "Invoice: 749-24-1565, Product Line: Health and beauty, Total: 217.63\n",
      "Invoice: 750-67-8428, Product Line: Health and beauty, Total: 548.97\n",
      "Invoice: 756-01-7507, Product Line: Health and beauty, Total: 107.00\n",
      "Invoice: 759-98-4285, Product Line: Health and beauty, Total: 631.14\n",
      "Invoice: 764-44-8999, Product Line: Health and beauty, Total: 31.00\n",
      "Invoice: 766-85-7061, Product Line: Health and beauty, Total: 922.64\n",
      "Invoice: 778-89-7974, Product Line: Health and beauty, Total: 442.32\n",
      "Invoice: 787-15-1757, Product Line: Health and beauty, Total: 185.09\n",
      "Invoice: 787-87-2010, Product Line: Health and beauty, Total: 233.10\n",
      "Invoice: 790-38-4466, Product Line: Health and beauty, Total: 57.70\n",
      "Invoice: 793-10-3222, Product Line: Health and beauty, Total: 258.68\n",
      "Invoice: 797-88-0493, Product Line: Health and beauty, Total: 269.93\n",
      "Invoice: 809-46-1866, Product Line: Health and beauty, Total: 244.23\n",
      "Invoice: 824-88-3614, Product Line: Health and beauty, Total: 288.20\n",
      "Invoice: 829-34-3910, Product Line: Health and beauty, Total: 749.49\n",
      "Invoice: 836-82-5858, Product Line: Health and beauty, Total: 655.55\n",
      "Invoice: 838-78-4295, Product Line: Health and beauty, Total: 70.29\n",
      "Invoice: 848-07-1692, Product Line: Health and beauty, Total: 120.16\n",
      "Invoice: 848-24-9445, Product Line: Health and beauty, Total: 91.77\n",
      "Invoice: 848-62-7243, Product Line: Health and beauty, Total: 235.21\n",
      "Invoice: 851-98-3555, Product Line: Health and beauty, Total: 435.12\n",
      "Invoice: 853-23-2453, Product Line: Health and beauty, Total: 318.11\n",
      "Invoice: 869-11-3082, Product Line: Health and beauty, Total: 403.87\n",
      "Invoice: 870-72-4431, Product Line: Health and beauty, Total: 624.90\n",
      "Invoice: 873-95-4984, Product Line: Health and beauty, Total: 565.22\n",
      "Invoice: 875-46-5808, Product Line: Health and beauty, Total: 271.95\n",
      "Invoice: 877-22-3308, Product Line: Health and beauty, Total: 166.64\n",
      "Invoice: 885-17-6250, Product Line: Health and beauty, Total: 83.73\n"
     ]
    }
   ],
   "source": [
    "# Question 5: Find all sales of products with 'health' in the name\n",
    "# Concept: WHERE with LIKE (Wildcards)\n",
    "print(\"\\n[Question 5: Finding sales from product lines containing 'Health']\")\n",
    "sql = \"SELECT invoice_id, product_line, total FROM sales WHERE product_line LIKE '%Health%'\"\n",
    "mycursor.execute(sql)\n",
    "myresult = mycursor.fetchall()\n",
    "for row in myresult:\n",
    "    print(f\"Invoice: {row[0]}, Product Line: {row[1]}, Total: {row[2]}\")"
   ]
  },
  {
   "cell_type": "code",
   "execution_count": 20,
   "metadata": {},
   "outputs": [
    {
     "name": "stdout",
     "output_type": "stream",
     "text": [
      "\n",
      "[Question 6: Fetching a single high-rated transaction (rating > 9)]\n",
      "A single high-rated transaction:\n",
      "('109-28-2512', 'B', 'Mandalay', 'Member', 'Female', 'Fashion accessories', Decimal('97.61'), 6, Decimal('29.28'), Decimal('614.94'), datetime.date(2019, 1, 7), datetime.timedelta(seconds=54060), 'Ewallet', Decimal('585.66'), 4.7619, Decimal('29.28'), 9.9)\n"
     ]
    }
   ],
   "source": [
    "# Question 6: Show me a single high-rated transaction \n",
    "# Concept: fetchone()\n",
    "print(\"\\n[Question 6: Fetching a single high-rated transaction (rating > 9)]\")\n",
    "mycursor.execute(\"SELECT * FROM sales WHERE rating > 9.0 LIMIT 1\")\n",
    "single_result = mycursor.fetchone()\n",
    "print(\"A single high-rated transaction:\")\n",
    "print(single_result)"
   ]
  },
  {
   "cell_type": "code",
   "execution_count": 23,
   "metadata": {},
   "outputs": [
    {
     "name": "stdout",
     "output_type": "stream",
     "text": [
      "\n",
      "--- Q6: What are the total sales by branch? ---\n",
      "Branch C: $110568.86\n",
      "Branch A: $106200.57\n",
      "Branch B: $106198.00\n"
     ]
    }
   ],
   "source": [
    "# 1. Sales by Branch/City\n",
    "print(\"\\n--- Q6: What are the total sales by branch? ---\")\n",
    "sql_branch = \"SELECT branch, SUM(total) as total_sales FROM sales GROUP BY branch ORDER BY total_sales DESC\"\n",
    "mycursor.execute(sql_branch)\n",
    "results = mycursor.fetchall()\n",
    "for row in results:\n",
    "    print(f\"Branch {row[0]}: ${row[1]:.2f}\")"
   ]
  },
  {
   "cell_type": "code",
   "execution_count": 25,
   "metadata": {},
   "outputs": [
    {
     "name": "stdout",
     "output_type": "stream",
     "text": [
      "\n",
      "--- Q2: Top 5 Selling Product Lines ---\n",
      "Food and beverages: $56144.96\n",
      "Sports and travel: $55123.00\n",
      "Electronic accessories: $54337.64\n",
      "Fashion accessories: $54306.03\n",
      "Home and lifestyle: $53861.96\n"
     ]
    }
   ],
   "source": [
    "sql_products = \"\"\"\n",
    "    SELECT product_line, SUM(total) as total_sales\n",
    "    FROM sales\n",
    "    GROUP BY product_line\n",
    "    ORDER BY total_sales DESC\n",
    "    LIMIT 5\n",
    "\"\"\"\n",
    "mycursor.execute(sql_products)\n",
    "results = mycursor.fetchall()\n",
    "print(\"\\n--- Q2: Top 5 Selling Product Lines ---\")\n",
    "for product, sales in results:\n",
    "    print(f\"{product}: ${sales:.2f}\")\n"
   ]
  },
  {
   "cell_type": "code",
   "execution_count": 26,
   "metadata": {},
   "outputs": [
    {
     "name": "stdout",
     "output_type": "stream",
     "text": [
      "\n",
      "--- Q3: Sales Difference Between 'Member' and 'Normal' Customers ---\n",
      "Customer Type   Transactions    Total Sales     Avg. Sale\n",
      "------------------------------------------------------------\n",
      "Normal          499             $158743.62      $318.12\n",
      "Member          501             $164223.81      $327.79\n"
     ]
    }
   ],
   "source": [
    "sql_customer = \"\"\"\n",
    "    SELECT customer_type,\n",
    "           COUNT(*) as num_transactions,\n",
    "           SUM(total) as total_sales,\n",
    "           AVG(total) as avg_sale_value\n",
    "    FROM sales\n",
    "    GROUP BY customer_type\n",
    "\"\"\"\n",
    "mycursor.execute(sql_customer)\n",
    "results = mycursor.fetchall()\n",
    "print(\"\\n--- Q3: Sales Difference Between 'Member' and 'Normal' Customers ---\")\n",
    "print(f\"{'Customer Type':<15} {'Transactions':<15} {'Total Sales':<15} {'Avg. Sale'}\")\n",
    "print(\"-\" * 60)\n",
    "for ctype, num_trans, total_sales, avg_sale in results:\n",
    "    print(f\"{ctype:<15} {num_trans:<15} ${total_sales:<14.2f} ${avg_sale:.2f}\")\n"
   ]
  },
  {
   "cell_type": "code",
   "execution_count": 27,
   "metadata": {},
   "outputs": [
    {
     "name": "stdout",
     "output_type": "stream",
     "text": [
      "\n",
      "--- Q4: Total Sales by Payment Method ---\n",
      "Cash           : $112206.76\n",
      "Ewallet        : $109993.38\n",
      "Credit card    : $100767.29\n"
     ]
    }
   ],
   "source": [
    "sql_payment = \"\"\"\n",
    "    SELECT payment_method, SUM(total) as total_sales\n",
    "    FROM sales\n",
    "    GROUP BY payment_method\n",
    "    ORDER BY total_sales DESC\n",
    "\"\"\"\n",
    "mycursor.execute(sql_payment)\n",
    "results = mycursor.fetchall()\n",
    "print(\"\\n--- Q4: Total Sales by Payment Method ---\")\n",
    "for method, sales in results:\n",
    "    print(f\"{method:<15}: ${sales:.2f}\")\n"
   ]
  },
  {
   "cell_type": "code",
   "execution_count": 34,
   "metadata": {},
   "outputs": [
    {
     "ename": "InternalError",
     "evalue": "Unread result found",
     "output_type": "error",
     "traceback": [
      "\u001b[31m---------------------------------------------------------------------------\u001b[39m",
      "\u001b[31mInternalError\u001b[39m                             Traceback (most recent call last)",
      "\u001b[36mCell\u001b[39m\u001b[36m \u001b[39m\u001b[32mIn[34]\u001b[39m\u001b[32m, line 7\u001b[39m\n\u001b[32m      1\u001b[39m sql_rating = \u001b[33m\"\"\"\u001b[39m\n\u001b[32m      2\u001b[39m \u001b[33m    SELECT gender, customer_type, AVG(rating) as avg_rating\u001b[39m\n\u001b[32m      3\u001b[39m \u001b[33m    FROM sales\u001b[39m\n\u001b[32m      4\u001b[39m \u001b[33m    GROUP BY gender, customer_type\u001b[39m\n\u001b[32m      5\u001b[39m \u001b[33m    ORDER BY gender, customer_type\u001b[39m\n\u001b[32m      6\u001b[39m \u001b[33m\"\"\"\u001b[39m\n\u001b[32m----> \u001b[39m\u001b[32m7\u001b[39m \u001b[43mmycursor\u001b[49m\u001b[43m.\u001b[49m\u001b[43mexecute\u001b[49m\u001b[43m(\u001b[49m\u001b[43msql_rating\u001b[49m\u001b[43m)\u001b[49m\n\u001b[32m      8\u001b[39m results = mycursor.fetchall()\n\u001b[32m      9\u001b[39m \u001b[38;5;28mprint\u001b[39m(\u001b[33m\"\u001b[39m\u001b[38;5;130;01m\\n\u001b[39;00m\u001b[33m--- Q8: Average Rating by Gender and Customer Type ---\u001b[39m\u001b[33m\"\u001b[39m)\n",
      "\u001b[36mFile \u001b[39m\u001b[32m~/miniconda3/lib/python3.13/site-packages/mysql/connector/cursor.py:375\u001b[39m, in \u001b[36mMySQLCursor.execute\u001b[39m\u001b[34m(self, operation, params, map_results)\u001b[39m\n\u001b[32m    372\u001b[39m \u001b[38;5;28;01mexcept\u001b[39;00m (ProgrammingError, \u001b[38;5;167;01mReferenceError\u001b[39;00m) \u001b[38;5;28;01mas\u001b[39;00m err:\n\u001b[32m    373\u001b[39m     \u001b[38;5;28;01mraise\u001b[39;00m ProgrammingError(\u001b[33m\"\u001b[39m\u001b[33mCursor is not connected\u001b[39m\u001b[33m\"\u001b[39m) \u001b[38;5;28;01mfrom\u001b[39;00m\u001b[38;5;250m \u001b[39m\u001b[34;01merr\u001b[39;00m\n\u001b[32m--> \u001b[39m\u001b[32m375\u001b[39m \u001b[38;5;28;43mself\u001b[39;49m\u001b[43m.\u001b[49m\u001b[43m_connection\u001b[49m\u001b[43m.\u001b[49m\u001b[43mhandle_unread_result\u001b[49m\u001b[43m(\u001b[49m\u001b[43m)\u001b[49m\n\u001b[32m    376\u001b[39m \u001b[38;5;28mself\u001b[39m._reset_result()\n\u001b[32m    378\u001b[39m stmt = \u001b[33mb\u001b[39m\u001b[33m\"\u001b[39m\u001b[33m\"\u001b[39m\n",
      "\u001b[36mFile \u001b[39m\u001b[32m~/miniconda3/lib/python3.13/site-packages/mysql/connector/connection.py:1784\u001b[39m, in \u001b[36mMySQLConnection.handle_unread_result\u001b[39m\u001b[34m(self)\u001b[39m\n\u001b[32m   1782\u001b[39m     \u001b[38;5;28mself\u001b[39m.consume_results()\n\u001b[32m   1783\u001b[39m \u001b[38;5;28;01melif\u001b[39;00m \u001b[38;5;28mself\u001b[39m.unread_result:\n\u001b[32m-> \u001b[39m\u001b[32m1784\u001b[39m     \u001b[38;5;28;01mraise\u001b[39;00m InternalError(\u001b[33m\"\u001b[39m\u001b[33mUnread result found\u001b[39m\u001b[33m\"\u001b[39m)\n",
      "\u001b[31mInternalError\u001b[39m: Unread result found"
     ]
    }
   ],
   "source": [
    "sql_rating = \"\"\"\n",
    "    SELECT gender, customer_type, AVG(rating) as avg_rating\n",
    "    FROM sales\n",
    "    GROUP BY gender, customer_type\n",
    "    ORDER BY gender, customer_type\n",
    "\"\"\"\n",
    "mycursor.execute(sql_rating)\n",
    "results = mycursor.fetchall()\n",
    "print(\"\\n--- Q8: Average Rating by Gender and Customer Type ---\")\n",
    "print(f\"{'Gender':<10} {'Customer Type':<15} {'Average Rating'}\")\n",
    "print(\"-\" * 45)\n",
    "for gender, ctype, avg_rating in results:\n",
    "    print(f\"{gender:<10} {ctype:<15} {avg_rating:.2f}\")\n"
   ]
  },
  {
   "cell_type": "code",
   "execution_count": null,
   "metadata": {},
   "outputs": [
    {
     "ename": "InternalError",
     "evalue": "Unread result found",
     "output_type": "error",
     "traceback": [
      "\u001b[31m---------------------------------------------------------------------------\u001b[39m",
      "\u001b[31mInternalError\u001b[39m                             Traceback (most recent call last)",
      "\u001b[36mCell\u001b[39m\u001b[36m \u001b[39m\u001b[32mIn[33]\u001b[39m\u001b[32m, line 8\u001b[39m\n\u001b[32m      1\u001b[39m sql_margin = \u001b[33m\"\"\"\u001b[39m\n\u001b[32m      2\u001b[39m \u001b[33m    SELECT product_line, AVG(gross_margin_percentage) as avg_margin\u001b[39m\n\u001b[32m      3\u001b[39m \u001b[33m    FROM sales\u001b[39m\n\u001b[32m   (...)\u001b[39m\u001b[32m      6\u001b[39m \u001b[33m    LIMIT 5\u001b[39m\n\u001b[32m      7\u001b[39m \u001b[33m\"\"\"\u001b[39m\n\u001b[32m----> \u001b[39m\u001b[32m8\u001b[39m \u001b[43mmycursor\u001b[49m\u001b[43m.\u001b[49m\u001b[43mexecute\u001b[49m\u001b[43m(\u001b[49m\u001b[43msql_margin\u001b[49m\u001b[43m)\u001b[49m\n\u001b[32m      9\u001b[39m results = mycursor.fetchall()\n\u001b[32m     10\u001b[39m \u001b[38;5;28mprint\u001b[39m(\u001b[33m\"\u001b[39m\u001b[38;5;130;01m\\n\u001b[39;00m\u001b[33m--- Q6: Product Lines With Highest Average Gross Margin ---\u001b[39m\u001b[33m\"\u001b[39m)\n",
      "\u001b[36mFile \u001b[39m\u001b[32m~/miniconda3/lib/python3.13/site-packages/mysql/connector/cursor.py:375\u001b[39m, in \u001b[36mMySQLCursor.execute\u001b[39m\u001b[34m(self, operation, params, map_results)\u001b[39m\n\u001b[32m    372\u001b[39m \u001b[38;5;28;01mexcept\u001b[39;00m (ProgrammingError, \u001b[38;5;167;01mReferenceError\u001b[39;00m) \u001b[38;5;28;01mas\u001b[39;00m err:\n\u001b[32m    373\u001b[39m     \u001b[38;5;28;01mraise\u001b[39;00m ProgrammingError(\u001b[33m\"\u001b[39m\u001b[33mCursor is not connected\u001b[39m\u001b[33m\"\u001b[39m) \u001b[38;5;28;01mfrom\u001b[39;00m\u001b[38;5;250m \u001b[39m\u001b[34;01merr\u001b[39;00m\n\u001b[32m--> \u001b[39m\u001b[32m375\u001b[39m \u001b[38;5;28;43mself\u001b[39;49m\u001b[43m.\u001b[49m\u001b[43m_connection\u001b[49m\u001b[43m.\u001b[49m\u001b[43mhandle_unread_result\u001b[49m\u001b[43m(\u001b[49m\u001b[43m)\u001b[49m\n\u001b[32m    376\u001b[39m \u001b[38;5;28mself\u001b[39m._reset_result()\n\u001b[32m    378\u001b[39m stmt = \u001b[33mb\u001b[39m\u001b[33m\"\u001b[39m\u001b[33m\"\u001b[39m\n",
      "\u001b[36mFile \u001b[39m\u001b[32m~/miniconda3/lib/python3.13/site-packages/mysql/connector/connection.py:1784\u001b[39m, in \u001b[36mMySQLConnection.handle_unread_result\u001b[39m\u001b[34m(self)\u001b[39m\n\u001b[32m   1782\u001b[39m     \u001b[38;5;28mself\u001b[39m.consume_results()\n\u001b[32m   1783\u001b[39m \u001b[38;5;28;01melif\u001b[39;00m \u001b[38;5;28mself\u001b[39m.unread_result:\n\u001b[32m-> \u001b[39m\u001b[32m1784\u001b[39m     \u001b[38;5;28;01mraise\u001b[39;00m InternalError(\u001b[33m\"\u001b[39m\u001b[33mUnread result found\u001b[39m\u001b[33m\"\u001b[39m)\n",
      "\u001b[31mInternalError\u001b[39m: Unread result found"
     ]
    }
   ],
   "source": [
    "sql_margin = \"\"\"\n",
    "    SELECT product_line, AVG(gross_margin_percentage) as avg_margin\n",
    "    FROM sales\n",
    "    GROUP BY product_line\n",
    "    ORDER BY avg_margin DESC\n",
    "    LIMIT 5\n",
    "\"\"\"\n",
    "mycursor.execute(sql_margin)\n",
    "results = mycursor.fetchall()\n",
    "print(\"\\n--- Q6: Product Lines With Highest Average Gross Margin ---\")\n",
    "for product, avg_margin in results:\n",
    "    print(f\"{product:<30}: {avg_margin:.2f}%\")\n"
   ]
  },
  {
   "cell_type": "code",
   "execution_count": 31,
   "metadata": {},
   "outputs": [
    {
     "ename": "AttributeError",
     "evalue": "'NoneType' object has no attribute 'cursor'",
     "output_type": "error",
     "traceback": [
      "\u001b[31m---------------------------------------------------------------------------\u001b[39m",
      "\u001b[31mAttributeError\u001b[39m                            Traceback (most recent call last)",
      "\u001b[36mCell\u001b[39m\u001b[36m \u001b[39m\u001b[32mIn[31]\u001b[39m\u001b[32m, line 9\u001b[39m\n\u001b[32m      1\u001b[39m sql_trends = \u001b[33m\"\"\"\u001b[39m\n\u001b[32m      2\u001b[39m \u001b[33m    SELECT sale_date, SUM(total) as daily_sales\u001b[39m\n\u001b[32m      3\u001b[39m \u001b[33m    FROM sales\u001b[39m\n\u001b[32m      4\u001b[39m \u001b[33m    GROUP BY sale_date\u001b[39m\n\u001b[32m      5\u001b[39m \u001b[33m    ORDER BY sale_date ASC\u001b[39m\n\u001b[32m      6\u001b[39m \u001b[33m\"\"\"\u001b[39m\n\u001b[32m----> \u001b[39m\u001b[32m9\u001b[39m df_trends = \u001b[43mpd\u001b[49m\u001b[43m.\u001b[49m\u001b[43mread_sql\u001b[49m\u001b[43m(\u001b[49m\u001b[43msql_trends\u001b[49m\u001b[43m,\u001b[49m\u001b[43m \u001b[49m\u001b[43mmycursor\u001b[49m\u001b[43m.\u001b[49m\u001b[43mexecute\u001b[49m\u001b[43m(\u001b[49m\u001b[43msql_trends\u001b[49m\u001b[43m)\u001b[49m\u001b[43m)\u001b[49m\n\u001b[32m     11\u001b[39m plt.figure(figsize=(\u001b[32m12\u001b[39m, \u001b[32m6\u001b[39m))\n\u001b[32m     12\u001b[39m plt.plot(df_trends[\u001b[33m'\u001b[39m\u001b[33msale_date\u001b[39m\u001b[33m'\u001b[39m], df_trends[\u001b[33m'\u001b[39m\u001b[33mdaily_sales\u001b[39m\u001b[33m'\u001b[39m], marker=\u001b[33m'\u001b[39m\u001b[33mo\u001b[39m\u001b[33m'\u001b[39m, linestyle=\u001b[33m'\u001b[39m\u001b[33m-\u001b[39m\u001b[33m'\u001b[39m)\n",
      "\u001b[36mFile \u001b[39m\u001b[32m~/miniconda3/lib/python3.13/site-packages/pandas/io/sql.py:708\u001b[39m, in \u001b[36mread_sql\u001b[39m\u001b[34m(sql, con, index_col, coerce_float, params, parse_dates, columns, chunksize, dtype_backend, dtype)\u001b[39m\n\u001b[32m    706\u001b[39m \u001b[38;5;28;01mwith\u001b[39;00m pandasSQL_builder(con) \u001b[38;5;28;01mas\u001b[39;00m pandas_sql:\n\u001b[32m    707\u001b[39m     \u001b[38;5;28;01mif\u001b[39;00m \u001b[38;5;28misinstance\u001b[39m(pandas_sql, SQLiteDatabase):\n\u001b[32m--> \u001b[39m\u001b[32m708\u001b[39m         \u001b[38;5;28;01mreturn\u001b[39;00m \u001b[43mpandas_sql\u001b[49m\u001b[43m.\u001b[49m\u001b[43mread_query\u001b[49m\u001b[43m(\u001b[49m\n\u001b[32m    709\u001b[39m \u001b[43m            \u001b[49m\u001b[43msql\u001b[49m\u001b[43m,\u001b[49m\n\u001b[32m    710\u001b[39m \u001b[43m            \u001b[49m\u001b[43mindex_col\u001b[49m\u001b[43m=\u001b[49m\u001b[43mindex_col\u001b[49m\u001b[43m,\u001b[49m\n\u001b[32m    711\u001b[39m \u001b[43m            \u001b[49m\u001b[43mparams\u001b[49m\u001b[43m=\u001b[49m\u001b[43mparams\u001b[49m\u001b[43m,\u001b[49m\n\u001b[32m    712\u001b[39m \u001b[43m            \u001b[49m\u001b[43mcoerce_float\u001b[49m\u001b[43m=\u001b[49m\u001b[43mcoerce_float\u001b[49m\u001b[43m,\u001b[49m\n\u001b[32m    713\u001b[39m \u001b[43m            \u001b[49m\u001b[43mparse_dates\u001b[49m\u001b[43m=\u001b[49m\u001b[43mparse_dates\u001b[49m\u001b[43m,\u001b[49m\n\u001b[32m    714\u001b[39m \u001b[43m            \u001b[49m\u001b[43mchunksize\u001b[49m\u001b[43m=\u001b[49m\u001b[43mchunksize\u001b[49m\u001b[43m,\u001b[49m\n\u001b[32m    715\u001b[39m \u001b[43m            \u001b[49m\u001b[43mdtype_backend\u001b[49m\u001b[43m=\u001b[49m\u001b[43mdtype_backend\u001b[49m\u001b[43m,\u001b[49m\n\u001b[32m    716\u001b[39m \u001b[43m            \u001b[49m\u001b[43mdtype\u001b[49m\u001b[43m=\u001b[49m\u001b[43mdtype\u001b[49m\u001b[43m,\u001b[49m\n\u001b[32m    717\u001b[39m \u001b[43m        \u001b[49m\u001b[43m)\u001b[49m\n\u001b[32m    719\u001b[39m     \u001b[38;5;28;01mtry\u001b[39;00m:\n\u001b[32m    720\u001b[39m         _is_table_name = pandas_sql.has_table(sql)\n",
      "\u001b[36mFile \u001b[39m\u001b[32m~/miniconda3/lib/python3.13/site-packages/pandas/io/sql.py:2728\u001b[39m, in \u001b[36mSQLiteDatabase.read_query\u001b[39m\u001b[34m(self, sql, index_col, coerce_float, parse_dates, params, chunksize, dtype, dtype_backend)\u001b[39m\n\u001b[32m   2717\u001b[39m \u001b[38;5;28;01mdef\u001b[39;00m\u001b[38;5;250m \u001b[39m\u001b[34mread_query\u001b[39m(\n\u001b[32m   2718\u001b[39m     \u001b[38;5;28mself\u001b[39m,\n\u001b[32m   2719\u001b[39m     sql,\n\u001b[32m   (...)\u001b[39m\u001b[32m   2726\u001b[39m     dtype_backend: DtypeBackend | Literal[\u001b[33m\"\u001b[39m\u001b[33mnumpy\u001b[39m\u001b[33m\"\u001b[39m] = \u001b[33m\"\u001b[39m\u001b[33mnumpy\u001b[39m\u001b[33m\"\u001b[39m,\n\u001b[32m   2727\u001b[39m ) -> DataFrame | Iterator[DataFrame]:\n\u001b[32m-> \u001b[39m\u001b[32m2728\u001b[39m     cursor = \u001b[38;5;28;43mself\u001b[39;49m\u001b[43m.\u001b[49m\u001b[43mexecute\u001b[49m\u001b[43m(\u001b[49m\u001b[43msql\u001b[49m\u001b[43m,\u001b[49m\u001b[43m \u001b[49m\u001b[43mparams\u001b[49m\u001b[43m)\u001b[49m\n\u001b[32m   2729\u001b[39m     columns = [col_desc[\u001b[32m0\u001b[39m] \u001b[38;5;28;01mfor\u001b[39;00m col_desc \u001b[38;5;129;01min\u001b[39;00m cursor.description]\n\u001b[32m   2731\u001b[39m     \u001b[38;5;28;01mif\u001b[39;00m chunksize \u001b[38;5;129;01mis\u001b[39;00m \u001b[38;5;129;01mnot\u001b[39;00m \u001b[38;5;28;01mNone\u001b[39;00m:\n",
      "\u001b[36mFile \u001b[39m\u001b[32m~/miniconda3/lib/python3.13/site-packages/pandas/io/sql.py:2662\u001b[39m, in \u001b[36mSQLiteDatabase.execute\u001b[39m\u001b[34m(self, sql, params)\u001b[39m\n\u001b[32m   2660\u001b[39m     \u001b[38;5;28;01mraise\u001b[39;00m \u001b[38;5;167;01mTypeError\u001b[39;00m(\u001b[33m\"\u001b[39m\u001b[33mQuery must be a string unless using sqlalchemy.\u001b[39m\u001b[33m\"\u001b[39m)\n\u001b[32m   2661\u001b[39m args = [] \u001b[38;5;28;01mif\u001b[39;00m params \u001b[38;5;129;01mis\u001b[39;00m \u001b[38;5;28;01mNone\u001b[39;00m \u001b[38;5;28;01melse\u001b[39;00m [params]\n\u001b[32m-> \u001b[39m\u001b[32m2662\u001b[39m cur = \u001b[38;5;28;43mself\u001b[39;49m\u001b[43m.\u001b[49m\u001b[43mcon\u001b[49m\u001b[43m.\u001b[49m\u001b[43mcursor\u001b[49m()\n\u001b[32m   2663\u001b[39m \u001b[38;5;28;01mtry\u001b[39;00m:\n\u001b[32m   2664\u001b[39m     cur.execute(sql, *args)\n",
      "\u001b[31mAttributeError\u001b[39m: 'NoneType' object has no attribute 'cursor'"
     ]
    }
   ],
   "source": [
    "sql_trends = \"\"\"\n",
    "    SELECT sale_date, SUM(total) as daily_sales\n",
    "    FROM sales\n",
    "    GROUP BY sale_date\n",
    "    ORDER BY sale_date ASC\n",
    "\"\"\"\n",
    "\n",
    "\n",
    "df_trends = pd.read_sql(sql_trends, mycursor.execute(sql_trends))\n",
    "\n",
    "plt.figure(figsize=(12, 6))\n",
    "plt.plot(df_trends['sale_date'], df_trends['daily_sales'], marker='o', linestyle='-')\n",
    "plt.title('Daily Sales Trend Over Time')\n",
    "plt.xlabel('Date')\n",
    "plt.ylabel('Total Sales')\n",
    "plt.grid(True)\n",
    "plt.xticks(rotation=45)\n",
    "plt.tight_layout()\n",
    "\n",
    "plot_filename = 'sales_trends.png'\n",
    "plt.savefig(plot_filename)\n",
    "print(f\"Date trend plot saved as '{plot_filename}'\")\n",
    "# Uncomment to display in notebook:\n",
    "# plt.show()\n"
   ]
  },
  {
   "cell_type": "code",
   "execution_count": null,
   "metadata": {},
   "outputs": [],
   "source": []
  }
 ],
 "metadata": {
  "kernelspec": {
   "display_name": "base",
   "language": "python",
   "name": "python3"
  },
  "language_info": {
   "codemirror_mode": {
    "name": "ipython",
    "version": 3
   },
   "file_extension": ".py",
   "mimetype": "text/x-python",
   "name": "python",
   "nbconvert_exporter": "python",
   "pygments_lexer": "ipython3",
   "version": "3.13.2"
  }
 },
 "nbformat": 4,
 "nbformat_minor": 2
}
