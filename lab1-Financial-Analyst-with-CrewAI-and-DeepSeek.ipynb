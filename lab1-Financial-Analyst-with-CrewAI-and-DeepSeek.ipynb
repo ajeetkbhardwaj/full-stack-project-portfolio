{
 "cells": [
  {
   "cell_type": "code",
   "execution_count": 15,
   "metadata": {},
   "outputs": [],
   "source": [
    "from crewai import Agent, Task, Crew\n",
    "from crewai import Process, LLM\n",
    "import crewai_tools as tools \n",
    "\n",
    "from pydantic import BaseModel, Field\n",
    "import yfinance as yf\n",
    "\n",
    "import os\n",
    "import json\n",
    "import re"
   ]
  },
  {
   "cell_type": "code",
   "execution_count": null,
   "metadata": {},
   "outputs": [],
   "source": [
    "# llm.py\n",
    "import os\n",
    "from langchain_openai import ChatOpenAI\n",
    "from dotenv import load_dotenv\n",
    "\n",
    "load_dotenv()\n",
    "llm = ChatOpenAI(\n",
    "    model=\"deepseek/deepseek-r1-0528:free\",  # You can use other OpenRouter models\n",
    "    openai_api_key=os.getenv(\"OPENROUTER_API_KEY\"),\n",
    "    base_url=\"https://openrouter.ai/api/v1\"\n",
    ")\n"
   ]
  },
  {
   "cell_type": "code",
   "execution_count": null,
   "metadata": {},
   "outputs": [],
   "source": [
    "# Data Validation\n",
    "class StockData(BaseModel):\n",
    "    symbol: str = Field(..., description=\"Stock symbol\")\n",
    "    price: float = Field(..., description=\"Current stock price\")\n",
    "    volume: int = Field(..., description=\"Trading volume\")\n",
    "    market_cap: float = Field(..., description=\"Market capitalization\")\n",
    "    timeframe: str = Field(..., description=\"Timeframe of the data (e.g., '1d', '1w', '1m')\")\n",
    "    action: str = Field(..., description=\"Action to take (e.g., 'fetch', 'plot', 'analysis', 'forecast')\")"
   ]
  }
 ],
 "metadata": {
  "kernelspec": {
   "display_name": "ai-agents",
   "language": "python",
   "name": "python3"
  },
  "language_info": {
   "codemirror_mode": {
    "name": "ipython",
    "version": 3
   },
   "file_extension": ".py",
   "mimetype": "text/x-python",
   "name": "python",
   "nbconvert_exporter": "python",
   "pygments_lexer": "ipython3",
   "version": "3.13.5"
  }
 },
 "nbformat": 4,
 "nbformat_minor": 2
}
